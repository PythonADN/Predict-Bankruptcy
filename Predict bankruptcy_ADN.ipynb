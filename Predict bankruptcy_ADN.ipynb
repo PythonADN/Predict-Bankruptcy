{
 "cells": [
  {
   "cell_type": "markdown",
   "metadata": {},
   "source": [
    "# Predict bankruptcy\n",
    "\n",
    "https://www.kaggle.com/c/diciaccio/data\n",
    "\n",
    "#### В качестве итоговой модели был выбран Грдиентный бустинг, оценка auc-roc на тесте kaggle составила: 0.93585"
   ]
  },
  {
   "cell_type": "markdown",
   "metadata": {},
   "source": [
    "## Оглавление:<a class='anchor' id='0'></a>\n",
    "1. [Предобработка данных:](#1)\n",
    "2. [Логистическая регрессия](#2)\n",
    "3. [Ядырные методы опорных векторов](#3)\n",
    "4. [Случайный лес](#4)\n",
    "5. [Градиентный бустинг](#5)\n",
    "6. [Сравнение ROC кривых](#6)\n",
    "6. [Получение прогнозов](#7)\n",
    "7. [Пользовательские функции](#8)"
   ]
  },
  {
   "cell_type": "code",
   "execution_count": 225,
   "metadata": {
    "collapsed": true
   },
   "outputs": [],
   "source": [
    "import pandas as pd\n",
    "import numpy as np\n",
    "from matplotlib import pylab as plt\n",
    "%matplotlib inline"
   ]
  },
  {
   "cell_type": "code",
   "execution_count": 226,
   "metadata": {
    "collapsed": true
   },
   "outputs": [],
   "source": [
    "data = pd.read_csv('daticctrain.csv', sep=';', low_memory = False)"
   ]
  },
  {
   "cell_type": "markdown",
   "metadata": {},
   "source": [
    "### 1. Предобработка данных <a class='anchor' id='1'></a>\n",
    "[в начало](#0)"
   ]
  },
  {
   "cell_type": "markdown",
   "metadata": {},
   "source": [
    "**Анализ полей и размера выборки**"
   ]
  },
  {
   "cell_type": "code",
   "execution_count": 227,
   "metadata": {},
   "outputs": [
    {
     "name": "stdout",
     "output_type": "stream",
     "text": [
      "Размер обучающей выборки: (11000, 86)\n"
     ]
    }
   ],
   "source": [
    "print('Размер обучающей выборки: {}'.format(data.shape))"
   ]
  },
  {
   "cell_type": "code",
   "execution_count": 228,
   "metadata": {},
   "outputs": [
    {
     "data": {
      "text/html": [
       "<div>\n",
       "<style>\n",
       "    .dataframe thead tr:only-child th {\n",
       "        text-align: right;\n",
       "    }\n",
       "\n",
       "    .dataframe thead th {\n",
       "        text-align: left;\n",
       "    }\n",
       "\n",
       "    .dataframe tbody tr th {\n",
       "        vertical-align: top;\n",
       "    }\n",
       "</style>\n",
       "<table border=\"1\" class=\"dataframe\">\n",
       "  <thead>\n",
       "    <tr style=\"text-align: right;\">\n",
       "      <th></th>\n",
       "      <th>ID</th>\n",
       "      <th>Target</th>\n",
       "      <th>Anno</th>\n",
       "      <th>Z1</th>\n",
       "      <th>Z2</th>\n",
       "      <th>Regione</th>\n",
       "      <th>Ricavi-1</th>\n",
       "      <th>Ricavi-2</th>\n",
       "      <th>Dipendenti-1</th>\n",
       "      <th>Dipendenti-2</th>\n",
       "      <th>...</th>\n",
       "      <th>TOTALEPAS-1</th>\n",
       "      <th>TOTALEPAS-2</th>\n",
       "      <th>TOTALEDEBITI-1</th>\n",
       "      <th>TOTALEDEBITI-2</th>\n",
       "      <th>Totaldebitientro-1</th>\n",
       "      <th>Totaldebitientro-2</th>\n",
       "      <th>Totaldebitioltre-1</th>\n",
       "      <th>Totaldebitioltre-2</th>\n",
       "      <th>RedditivROI-1</th>\n",
       "      <th>RedditivROI-2</th>\n",
       "    </tr>\n",
       "  </thead>\n",
       "  <tbody>\n",
       "    <tr>\n",
       "      <th>0</th>\n",
       "      <td>7358</td>\n",
       "      <td>0</td>\n",
       "      <td>2016</td>\n",
       "      <td>1.479190</td>\n",
       "      <td>1.695080</td>\n",
       "      <td>VENETO</td>\n",
       "      <td>3 618</td>\n",
       "      <td>3 337</td>\n",
       "      <td>26</td>\n",
       "      <td>24</td>\n",
       "      <td>...</td>\n",
       "      <td>3 491</td>\n",
       "      <td>3 577</td>\n",
       "      <td>1 461</td>\n",
       "      <td>1 137</td>\n",
       "      <td>1 461</td>\n",
       "      <td>1 137</td>\n",
       "      <td>0</td>\n",
       "      <td>0</td>\n",
       "      <td>-25.53</td>\n",
       "      <td>-7.45</td>\n",
       "    </tr>\n",
       "    <tr>\n",
       "      <th>1</th>\n",
       "      <td>9744</td>\n",
       "      <td>0</td>\n",
       "      <td>2016</td>\n",
       "      <td>1.547276</td>\n",
       "      <td>1.721152</td>\n",
       "      <td>TRENTINO-ALTO</td>\n",
       "      <td>1 735</td>\n",
       "      <td>1 843</td>\n",
       "      <td>2</td>\n",
       "      <td>2</td>\n",
       "      <td>...</td>\n",
       "      <td>2 244</td>\n",
       "      <td>2 425</td>\n",
       "      <td>855</td>\n",
       "      <td>851</td>\n",
       "      <td>855</td>\n",
       "      <td>851</td>\n",
       "      <td>0</td>\n",
       "      <td>0</td>\n",
       "      <td>10.12</td>\n",
       "      <td>16.51</td>\n",
       "    </tr>\n",
       "    <tr>\n",
       "      <th>2</th>\n",
       "      <td>13087</td>\n",
       "      <td>0</td>\n",
       "      <td>2016</td>\n",
       "      <td>1.102310</td>\n",
       "      <td>1.526099</td>\n",
       "      <td>CAMPANIA</td>\n",
       "      <td>1 098</td>\n",
       "      <td>1 166</td>\n",
       "      <td>10</td>\n",
       "      <td>13</td>\n",
       "      <td>...</td>\n",
       "      <td>2 234</td>\n",
       "      <td>1 493</td>\n",
       "      <td>1 580</td>\n",
       "      <td>866</td>\n",
       "      <td>596</td>\n",
       "      <td>584</td>\n",
       "      <td>984</td>\n",
       "      <td>282</td>\n",
       "      <td>4.26</td>\n",
       "      <td>3.54</td>\n",
       "    </tr>\n",
       "    <tr>\n",
       "      <th>3</th>\n",
       "      <td>7510</td>\n",
       "      <td>0</td>\n",
       "      <td>2016</td>\n",
       "      <td>3.824231</td>\n",
       "      <td>3.456398</td>\n",
       "      <td>SICILIA</td>\n",
       "      <td>9 187</td>\n",
       "      <td>9 081</td>\n",
       "      <td>44</td>\n",
       "      <td>45</td>\n",
       "      <td>...</td>\n",
       "      <td>3 055</td>\n",
       "      <td>3 336</td>\n",
       "      <td>1 994</td>\n",
       "      <td>2 428</td>\n",
       "      <td>332</td>\n",
       "      <td>1 438</td>\n",
       "      <td>1 662</td>\n",
       "      <td>990</td>\n",
       "      <td>10.68</td>\n",
       "      <td>12.78</td>\n",
       "    </tr>\n",
       "    <tr>\n",
       "      <th>4</th>\n",
       "      <td>8450</td>\n",
       "      <td>0</td>\n",
       "      <td>2016</td>\n",
       "      <td>3.082321</td>\n",
       "      <td>2.647675</td>\n",
       "      <td>PUGLIA</td>\n",
       "      <td>2 712</td>\n",
       "      <td>2 426</td>\n",
       "      <td>14</td>\n",
       "      <td>13</td>\n",
       "      <td>...</td>\n",
       "      <td>1 323</td>\n",
       "      <td>1 513</td>\n",
       "      <td>1 074</td>\n",
       "      <td>1 171</td>\n",
       "      <td>963</td>\n",
       "      <td>1 057</td>\n",
       "      <td>110</td>\n",
       "      <td>115</td>\n",
       "      <td>24.54</td>\n",
       "      <td>19.99</td>\n",
       "    </tr>\n",
       "  </tbody>\n",
       "</table>\n",
       "<p>5 rows × 86 columns</p>\n",
       "</div>"
      ],
      "text/plain": [
       "      ID  Target  Anno        Z1        Z2        Regione Ricavi-1 Ricavi-2  \\\n",
       "0   7358       0  2016  1.479190  1.695080         VENETO    3 618    3 337   \n",
       "1   9744       0  2016  1.547276  1.721152  TRENTINO-ALTO    1 735    1 843   \n",
       "2  13087       0  2016  1.102310  1.526099       CAMPANIA    1 098    1 166   \n",
       "3   7510       0  2016  3.824231  3.456398        SICILIA    9 187    9 081   \n",
       "4   8450       0  2016  3.082321  2.647675         PUGLIA    2 712    2 426   \n",
       "\n",
       "  Dipendenti-1 Dipendenti-2      ...      TOTALEPAS-1 TOTALEPAS-2  \\\n",
       "0           26           24      ...            3 491       3 577   \n",
       "1            2            2      ...            2 244       2 425   \n",
       "2           10           13      ...            2 234       1 493   \n",
       "3           44           45      ...            3 055       3 336   \n",
       "4           14           13      ...            1 323       1 513   \n",
       "\n",
       "  TOTALEDEBITI-1 TOTALEDEBITI-2 Totaldebitientro-1 Totaldebitientro-2  \\\n",
       "0          1 461          1 137              1 461              1 137   \n",
       "1            855            851                855                851   \n",
       "2          1 580            866                596                584   \n",
       "3          1 994          2 428                332              1 438   \n",
       "4          1 074          1 171                963              1 057   \n",
       "\n",
       "  Totaldebitioltre-1 Totaldebitioltre-2 RedditivROI-1 RedditivROI-2  \n",
       "0                  0                  0        -25.53         -7.45  \n",
       "1                  0                  0         10.12         16.51  \n",
       "2                984                282          4.26          3.54  \n",
       "3              1 662                990         10.68         12.78  \n",
       "4                110                115         24.54         19.99  \n",
       "\n",
       "[5 rows x 86 columns]"
      ]
     },
     "execution_count": 228,
     "metadata": {},
     "output_type": "execute_result"
    }
   ],
   "source": [
    "data.head()\n",
    "# data.tail()"
   ]
  },
  {
   "cell_type": "markdown",
   "metadata": {},
   "source": [
    "Название полей"
   ]
  },
  {
   "cell_type": "code",
   "execution_count": 229,
   "metadata": {
    "collapsed": true
   },
   "outputs": [],
   "source": [
    "# data.columns"
   ]
  },
  {
   "cell_type": "markdown",
   "metadata": {},
   "source": [
    "Типы полей"
   ]
  },
  {
   "cell_type": "code",
   "execution_count": 230,
   "metadata": {
    "collapsed": true
   },
   "outputs": [],
   "source": [
    "# data.dtypes[data.dtypes=='object'] # Категории (35)\n",
    "# data.dtypes[data.dtypes=='int64'] # Целые (3)\n",
    "# data.dtypes[data.dtypes=='float64'] # Вещественные (48)"
   ]
  },
  {
   "cell_type": "markdown",
   "metadata": {},
   "source": [
    "Описание полей по типам"
   ]
  },
  {
   "cell_type": "code",
   "execution_count": 231,
   "metadata": {
    "collapsed": true
   },
   "outputs": [],
   "source": [
    "# data.describe(include=['object']) # Категории (35)\n",
    "# data.describe(include=['int64']) # Целые (3)\n",
    "# data.describe(include=['float64']) # Вещественные (48)"
   ]
  },
  {
   "cell_type": "markdown",
   "metadata": {},
   "source": [
    "Присутствует несбалансированность классов -> Будем учитывать это при построении моделей (class_weight='balanced')"
   ]
  },
  {
   "cell_type": "code",
   "execution_count": 232,
   "metadata": {},
   "outputs": [
    {
     "data": {
      "text/plain": [
       "0    10168\n",
       "1      832\n",
       "Name: Target, dtype: int64"
      ]
     },
     "execution_count": 232,
     "metadata": {},
     "output_type": "execute_result"
    }
   ],
   "source": [
    "data.Target.value_counts()"
   ]
  },
  {
   "cell_type": "markdown",
   "metadata": {},
   "source": [
    "**Исследуем поля на пропуски**\n",
    "\n",
    "В данных имеется один пропуск в поле \"Z2\":"
   ]
  },
  {
   "cell_type": "code",
   "execution_count": 233,
   "metadata": {},
   "outputs": [
    {
     "data": {
      "text/plain": [
       "Z2    1\n",
       "dtype: int64"
      ]
     },
     "execution_count": 233,
     "metadata": {},
     "output_type": "execute_result"
    }
   ],
   "source": [
    "data.isnull().sum()[data.isnull().sum()>0]"
   ]
  },
  {
   "cell_type": "code",
   "execution_count": 234,
   "metadata": {},
   "outputs": [
    {
     "name": "stdout",
     "output_type": "stream",
     "text": [
      "среднее значение признака Z2: 2.152\n"
     ]
    }
   ],
   "source": [
    "'''Заменим пропуск на среднее значение признака'''\n",
    "print('среднее значение признака Z2: {:.3f}'.format(data.Z2.mean()))\n",
    "data.Z2.fillna(data.Z2.mean(), inplace=True)"
   ]
  },
  {
   "cell_type": "code",
   "execution_count": 235,
   "metadata": {
    "collapsed": true
   },
   "outputs": [],
   "source": [
    "# data.isnull().any()[data.isnull().any()==True]"
   ]
  },
  {
   "cell_type": "markdown",
   "metadata": {},
   "source": [
    "Пропущенных значений больше нет. В тестовых данных так же пропусков нет"
   ]
  },
  {
   "cell_type": "markdown",
   "metadata": {},
   "source": [
    "**Отделим выборку от целевой метки**"
   ]
  },
  {
   "cell_type": "code",
   "execution_count": 236,
   "metadata": {
    "collapsed": true
   },
   "outputs": [],
   "source": [
    "X = data.copy() # сделаем копию выборки\n",
    "y = X.Target.values # создадим отдельно целевые метки\n",
    "X.drop(['ID','Target'], axis=1, inplace=True) # удалим ID и Target"
   ]
  },
  {
   "cell_type": "code",
   "execution_count": 237,
   "metadata": {
    "collapsed": true
   },
   "outputs": [],
   "source": [
    "data = None"
   ]
  },
  {
   "cell_type": "markdown",
   "metadata": {},
   "source": [
    "**Предобработка категориальных признаков**"
   ]
  },
  {
   "cell_type": "code",
   "execution_count": 238,
   "metadata": {
    "collapsed": true
   },
   "outputs": [],
   "source": [
    "from sklearn.preprocessing import LabelEncoder, OneHotEncoder"
   ]
  },
  {
   "cell_type": "code",
   "execution_count": 239,
   "metadata": {
    "collapsed": true
   },
   "outputs": [],
   "source": [
    "'''Категориальные признаки'''\n",
    "columns_object = X.dtypes[X.dtypes=='object'].keys()"
   ]
  },
  {
   "cell_type": "code",
   "execution_count": 240,
   "metadata": {
    "collapsed": true
   },
   "outputs": [],
   "source": [
    "# columns_object"
   ]
  },
  {
   "cell_type": "markdown",
   "metadata": {},
   "source": [
    "**категории:**\n",
    "Regione\n",
    "\n",
    "**строки с числами и пробелами между разрядами:**\n",
    "Ricavi-1, Ricavi-2, Dipendenti-1, Dipendenti-2, EBITDA-1, EBITDA-2, Totale-1, Totale-2, Utile-1, Utile-2\n",
    "Patrimonio-1, Patrimonio-2, Posizione-1, Posizione-2, ATTIVO_CIR-1, ATTIVO_CIR-2, TOTALE_IMM-1, TOTALE_IMM-2,\n",
    "TOTALE_CRED-1, TOTALE_CRED-2, Utile_perd-1, Utile_perd-2, TOTALEPAS-1, TOTALEPAS-2, TOTALEDEBITI-1, TOTALEDEBITI-2\n",
    "Totaldebitientro-1, Totaldebitientro-2, Totaldebitioltre-1, Totaldebitioltre-2,\n",
    "\n",
    "**вещественные числа в строке с пробелом:**\n",
    "Rappindeb-1, Rappindeb-2, Durcrediti-1, Durcrediti-2"
   ]
  },
  {
   "cell_type": "code",
   "execution_count": 241,
   "metadata": {
    "collapsed": true
   },
   "outputs": [],
   "source": [
    "columns_object_string = list(columns_object) # список категориальных признаков\n",
    "columns_object_string.remove('Regione') # список строковочисловых признаков"
   ]
  },
  {
   "cell_type": "code",
   "execution_count": 242,
   "metadata": {
    "collapsed": true
   },
   "outputs": [],
   "source": [
    "'''преобразование строковых признаков в числовые (для train)'''\n",
    "ReplaceNumericData(X, columns_object_string)"
   ]
  },
  {
   "cell_type": "markdown",
   "metadata": {},
   "source": [
    "В итоге остался один категориальный признак: \"Regione\""
   ]
  },
  {
   "cell_type": "code",
   "execution_count": 243,
   "metadata": {},
   "outputs": [
    {
     "data": {
      "text/plain": [
       "Regione    object\n",
       "dtype: object"
      ]
     },
     "execution_count": 243,
     "metadata": {},
     "output_type": "execute_result"
    }
   ],
   "source": [
    "X.dtypes[X.dtypes=='object']"
   ]
  },
  {
   "cell_type": "markdown",
   "metadata": {},
   "source": [
    "Преобразуем категориальный признак \"Regione\":"
   ]
  },
  {
   "cell_type": "code",
   "execution_count": 244,
   "metadata": {
    "collapsed": true
   },
   "outputs": [],
   "source": [
    "encoder = LabelEncoder()\n",
    "X['Regione'] = encoder.fit_transform(X['Regione'])"
   ]
  },
  {
   "cell_type": "code",
   "execution_count": 245,
   "metadata": {
    "collapsed": true
   },
   "outputs": [],
   "source": [
    "# X.head()"
   ]
  },
  {
   "cell_type": "markdown",
   "metadata": {},
   "source": [
    "**Матрица попарных корреляций**"
   ]
  },
  {
   "cell_type": "code",
   "execution_count": 246,
   "metadata": {},
   "outputs": [
    {
     "data": {
      "text/plain": [
       "<matplotlib.axes._subplots.AxesSubplot at 0x19301e80>"
      ]
     },
     "execution_count": 246,
     "metadata": {},
     "output_type": "execute_result"
    },
    {
     "data": {
      "image/png": "[encoded data removed]",
      "text/plain": [
       "<matplotlib.figure.Figure at 0x193012b0>"
      ]
     },
     "metadata": {},
     "output_type": "display_data"
    }
   ],
   "source": [
    "import seaborn\n",
    "plt.figure(figsize=(20,16))\n",
    "seaborn.heatmap(X.corr(), square=True)"
   ]
  },
  {
   "cell_type": "markdown",
   "metadata": {},
   "source": [
    "Как и следовало ожидать, большинство признаков взаимозависимы, однако исключение данных признаков или понижение размерности посредством методов матричного разложения приводят к некоторой потери данных и сказываются на итоговом качестве. Оставим все признаки."
   ]
  },
  {
   "cell_type": "markdown",
   "metadata": {},
   "source": [
    "**Исследование признаков на нормальность**"
   ]
  },
  {
   "cell_type": "code",
   "execution_count": 247,
   "metadata": {
    "collapsed": true
   },
   "outputs": [],
   "source": [
    "from scipy import stats"
   ]
  },
  {
   "cell_type": "code",
   "execution_count": 248,
   "metadata": {},
   "outputs": [
    {
     "data": {
      "text/plain": [
       "'Ricavi-1'"
      ]
     },
     "execution_count": 248,
     "metadata": {},
     "output_type": "execute_result"
    }
   ],
   "source": [
    "X.columns[4]"
   ]
  },
  {
   "cell_type": "code",
   "execution_count": 251,
   "metadata": {},
   "outputs": [
    {
     "data": {
      "image/png": "[encoded data removed]",
      "text/plain": [
       "<matplotlib.figure.Figure at 0x14f3f5f8>"
      ]
     },
     "metadata": {},
     "output_type": "display_data"
    }
   ],
   "source": [
    "'''Функция построения Q-Q графика и переход к логорифму признака'''\n",
    "Norm_log_QQ_Plot(X[X.columns[4]])"
   ]
  },
  {
   "cell_type": "markdown",
   "metadata": {},
   "source": [
    "Были выбраны следующие номера признаков, подлежащие логорифмированию:"
   ]
  },
  {
   "cell_type": "code",
   "execution_count": 252,
   "metadata": {
    "collapsed": true
   },
   "outputs": [],
   "source": [
    "Columns = [4,5,6,7,10,11,28,29,32,33,34,35,36,37,38,39,42,43,44,45,56,57,58,59,60,61,66,67,70,71,74,75,76,77,78,79,80]"
   ]
  },
  {
   "cell_type": "code",
   "execution_count": 253,
   "metadata": {
    "collapsed": true
   },
   "outputs": [],
   "source": [
    "'''Логорифмирование данных признаков'''\n",
    "for i in range(len(X.columns)):\n",
    "    if i in Columns:\n",
    "        X[X.columns[i]] = X[X.columns[i]].apply(lambda x: np.log(x+1)) # изменим признак на log от этого признака"
   ]
  },
  {
   "cell_type": "markdown",
   "metadata": {},
   "source": [
    "### 2. Построение модели Логистической регрессии <a class='anchor' id='2'></a>\n",
    "[в начало](#0)"
   ]
  },
  {
   "cell_type": "code",
   "execution_count": 254,
   "metadata": {
    "collapsed": true
   },
   "outputs": [],
   "source": [
    "from sklearn.cross_validation import cross_val_score\n",
    "from sklearn.model_selection import GridSearchCV\n",
    "from sklearn import pipeline\n",
    "from sklearn.linear_model import LogisticRegression\n",
    "from sklearn.preprocessing import FunctionTransformer, MinMaxScaler, StandardScaler"
   ]
  },
  {
   "cell_type": "code",
   "execution_count": 255,
   "metadata": {
    "collapsed": true
   },
   "outputs": [],
   "source": [
    "model_1 = LogisticRegression(random_state = 0, class_weight='balanced')\n",
    "\n",
    "pip_11 = pipeline.Pipeline([('scaler',MinMaxScaler()),('model',model_1)])\n",
    "pip_12 = pipeline.Pipeline([('scaler',StandardScaler()),('model',model_1)])"
   ]
  },
  {
   "cell_type": "code",
   "execution_count": 256,
   "metadata": {},
   "outputs": [
    {
     "name": "stdout",
     "output_type": "stream",
     "text": [
      "Wall time: 2.73 s\n"
     ]
    },
    {
     "data": {
      "text/plain": [
       "0.9706462579715607"
      ]
     },
     "execution_count": 256,
     "metadata": {},
     "output_type": "execute_result"
    }
   ],
   "source": [
    "%%time\n",
    "cross_val_score(pip_11, X, y, scoring='roc_auc', cv=5).mean() # предобработка - масштабирование"
   ]
  },
  {
   "cell_type": "code",
   "execution_count": 207,
   "metadata": {},
   "outputs": [
    {
     "name": "stdout",
     "output_type": "stream",
     "text": [
      "Wall time: 7.12 s\n"
     ]
    },
    {
     "data": {
      "text/plain": [
       "0.9682365975564367"
      ]
     },
     "execution_count": 207,
     "metadata": {},
     "output_type": "execute_result"
    }
   ],
   "source": [
    "%%time\n",
    "cross_val_score(pip_12, X, y, scoring='roc_auc', cv=5).mean() # предобработка - стандартизация"
   ]
  },
  {
   "cell_type": "code",
   "execution_count": 208,
   "metadata": {},
   "outputs": [
    {
     "name": "stdout",
     "output_type": "stream",
     "text": [
      "Wall time: 2.83 s\n"
     ]
    }
   ],
   "source": [
    "%%time\n",
    "pip_11.fit(X,y)\n",
    "pip_12.fit(X,y)"
   ]
  },
  {
   "cell_type": "code",
   "execution_count": 209,
   "metadata": {},
   "outputs": [
    {
     "data": {
      "text/plain": [
       "'построение графика коээфициентов модели'"
      ]
     },
     "execution_count": 209,
     "metadata": {},
     "output_type": "execute_result"
    }
   ],
   "source": [
    "'''построение графика коээфициентов модели'''\n",
    "# PltCoefModel(pip_11)"
   ]
  },
  {
   "cell_type": "markdown",
   "metadata": {},
   "source": [
    "**Подбор параметров по сетке**"
   ]
  },
  {
   "cell_type": "code",
   "execution_count": 277,
   "metadata": {
    "collapsed": true
   },
   "outputs": [],
   "source": [
    "param_grid = {'model__C': [0.0001, 0.001, 0.01, 0.1, 1, 10, 100, 1000]}\n",
    "grid_11 = GridSearchCV(pip_11, param_grid, scoring='roc_auc', cv=5)\n",
    "grid_12 = GridSearchCV(pip_12, param_grid, scoring='roc_auc', cv=5)"
   ]
  },
  {
   "cell_type": "code",
   "execution_count": 278,
   "metadata": {},
   "outputs": [
    {
     "name": "stdout",
     "output_type": "stream",
     "text": [
      "Wall time: 43.2 s\n"
     ]
    },
    {
     "data": {
      "text/plain": [
       "GridSearchCV(cv=5, error_score='raise',\n",
       "       estimator=Pipeline(memory=None,\n",
       "     steps=[('scaler', MinMaxScaler(copy=True, feature_range=(0, 1))), ('model', LogisticRegression(C=1.0, class_weight='balanced', dual=False,\n",
       "          fit_intercept=True, intercept_scaling=1, max_iter=100,\n",
       "          multi_class='ovr', n_jobs=1, penalty='l2', random_state=0,\n",
       "          solver='liblinear', tol=0.0001, verbose=0, warm_start=False))]),\n",
       "       fit_params=None, iid=True, n_jobs=1,\n",
       "       param_grid={'model__C': [0.0001, 0.001, 0.01, 0.1, 1, 10, 100, 1000]},\n",
       "       pre_dispatch='2*n_jobs', refit=True, return_train_score='warn',\n",
       "       scoring='roc_auc', verbose=0)"
      ]
     },
     "execution_count": 278,
     "metadata": {},
     "output_type": "execute_result"
    }
   ],
   "source": [
    "%%time\n",
    "grid_11.fit(X,y)"
   ]
  },
  {
   "cell_type": "code",
   "execution_count": 279,
   "metadata": {},
   "outputs": [
    {
     "name": "stderr",
     "output_type": "stream",
     "text": [
      "C:\\Users\\Dima\\Anaconda3\\lib\\site-packages\\sklearn\\model_selection\\_search.py:761: DeprecationWarning: The grid_scores_ attribute was deprecated in version 0.18 in favor of the more elaborate cv_results_ attribute. The grid_scores_ attribute will not be available from 0.20\n",
      "  DeprecationWarning)\n"
     ]
    },
    {
     "data": {
      "text/plain": [
       "[mean: 0.90845, std: 0.01194, params: {'model__C': 0.0001},\n",
       " mean: 0.92183, std: 0.01054, params: {'model__C': 0.001},\n",
       " mean: 0.94982, std: 0.00764, params: {'model__C': 0.01},\n",
       " mean: 0.96576, std: 0.00610, params: {'model__C': 0.1},\n",
       " mean: 0.97065, std: 0.00558, params: {'model__C': 1},\n",
       " mean: 0.97117, std: 0.00630, params: {'model__C': 10},\n",
       " mean: 0.96938, std: 0.00567, params: {'model__C': 100},\n",
       " mean: 0.96756, std: 0.00580, params: {'model__C': 1000}]"
      ]
     },
     "execution_count": 279,
     "metadata": {},
     "output_type": "execute_result"
    }
   ],
   "source": [
    "grid_11.grid_scores_"
   ]
  },
  {
   "cell_type": "code",
   "execution_count": 280,
   "metadata": {},
   "outputs": [
    {
     "name": "stdout",
     "output_type": "stream",
     "text": [
      "Wall time: 40.4 s\n"
     ]
    },
    {
     "data": {
      "text/plain": [
       "GridSearchCV(cv=5, error_score='raise',\n",
       "       estimator=Pipeline(memory=None,\n",
       "     steps=[('scaler', StandardScaler(copy=True, with_mean=True, with_std=True)), ('model', LogisticRegression(C=1.0, class_weight='balanced', dual=False,\n",
       "          fit_intercept=True, intercept_scaling=1, max_iter=100,\n",
       "          multi_class='ovr', n_jobs=1, penalty='l2', random_state=0,\n",
       "          solver='liblinear', tol=0.0001, verbose=0, warm_start=False))]),\n",
       "       fit_params=None, iid=True, n_jobs=1,\n",
       "       param_grid={'model__C': [0.0001, 0.001, 0.01, 0.1, 1, 10, 100, 1000]},\n",
       "       pre_dispatch='2*n_jobs', refit=True, return_train_score='warn',\n",
       "       scoring='roc_auc', verbose=0)"
      ]
     },
     "execution_count": 280,
     "metadata": {},
     "output_type": "execute_result"
    }
   ],
   "source": [
    "%%time\n",
    "grid_12.fit(X,y)"
   ]
  },
  {
   "cell_type": "code",
   "execution_count": 281,
   "metadata": {},
   "outputs": [
    {
     "name": "stderr",
     "output_type": "stream",
     "text": [
      "C:\\Users\\Dima\\Anaconda3\\lib\\site-packages\\sklearn\\model_selection\\_search.py:761: DeprecationWarning: The grid_scores_ attribute was deprecated in version 0.18 in favor of the more elaborate cv_results_ attribute. The grid_scores_ attribute will not be available from 0.20\n",
      "  DeprecationWarning)\n"
     ]
    },
    {
     "data": {
      "text/plain": [
       "[mean: 0.95132, std: 0.00872, params: {'model__C': 0.0001},\n",
       " mean: 0.96952, std: 0.00590, params: {'model__C': 0.001},\n",
       " mean: 0.97263, std: 0.00605, params: {'model__C': 0.01},\n",
       " mean: 0.97089, std: 0.00657, params: {'model__C': 0.1},\n",
       " mean: 0.96824, std: 0.00584, params: {'model__C': 1},\n",
       " mean: 0.96730, std: 0.00555, params: {'model__C': 10},\n",
       " mean: 0.96713, std: 0.00554, params: {'model__C': 100},\n",
       " mean: 0.96710, std: 0.00554, params: {'model__C': 1000}]"
      ]
     },
     "execution_count": 281,
     "metadata": {},
     "output_type": "execute_result"
    }
   ],
   "source": [
    "grid_12.grid_scores_"
   ]
  },
  {
   "cell_type": "markdown",
   "metadata": {},
   "source": [
    "### 3. Построение модели Ядерного метода опрных векторов <a class='anchor' id='3'></a>\n",
    "[в начало](#0)"
   ]
  },
  {
   "cell_type": "code",
   "execution_count": 210,
   "metadata": {
    "collapsed": true
   },
   "outputs": [],
   "source": [
    "from sklearn.svm import LinearSVC, SVC"
   ]
  },
  {
   "cell_type": "code",
   "execution_count": 211,
   "metadata": {
    "collapsed": true
   },
   "outputs": [],
   "source": [
    "model_2 = LinearSVC(random_state = 0, class_weight='balanced')\n",
    "\n",
    "pip_21 = pipeline.Pipeline([('scaler',MinMaxScaler()),('model',model_2)])\n",
    "pip_22 = pipeline.Pipeline([('scaler',StandardScaler()),('model',model_2)])"
   ]
  },
  {
   "cell_type": "code",
   "execution_count": 212,
   "metadata": {},
   "outputs": [
    {
     "name": "stdout",
     "output_type": "stream",
     "text": [
      "Wall time: 26.4 s\n"
     ]
    },
    {
     "data": {
      "text/plain": [
       "0.9714867713002885"
      ]
     },
     "execution_count": 212,
     "metadata": {},
     "output_type": "execute_result"
    }
   ],
   "source": [
    "%%time\n",
    "cross_val_score(pip_21, X, y, scoring='roc_auc',cv=5).mean() # предобработка - масштабирование"
   ]
  },
  {
   "cell_type": "code",
   "execution_count": 213,
   "metadata": {},
   "outputs": [
    {
     "name": "stdout",
     "output_type": "stream",
     "text": [
      "Wall time: 30.2 s\n"
     ]
    },
    {
     "data": {
      "text/plain": [
       "0.963563704624186"
      ]
     },
     "execution_count": 213,
     "metadata": {},
     "output_type": "execute_result"
    }
   ],
   "source": [
    "%%time\n",
    "cross_val_score(pip_22, X, y, scoring='roc_auc',cv=5).mean() # предобработка - стандартизация"
   ]
  },
  {
   "cell_type": "code",
   "execution_count": 214,
   "metadata": {},
   "outputs": [
    {
     "name": "stdout",
     "output_type": "stream",
     "text": [
      "Wall time: 15.9 s\n"
     ]
    }
   ],
   "source": [
    "%%time\n",
    "pip_21.fit(X,y)\n",
    "pip_22.fit(X,y)"
   ]
  },
  {
   "cell_type": "markdown",
   "metadata": {},
   "source": [
    "Попробуем SVM с нелинейным ядром:"
   ]
  },
  {
   "cell_type": "code",
   "execution_count": 215,
   "metadata": {
    "collapsed": true
   },
   "outputs": [],
   "source": [
    "model_3 = SVC(random_state = 0, class_weight='balanced')\n",
    "\n",
    "pip_3 = pipeline.Pipeline([('scaler',MinMaxScaler()),('model',model_3)])"
   ]
  },
  {
   "cell_type": "code",
   "execution_count": 216,
   "metadata": {},
   "outputs": [
    {
     "name": "stdout",
     "output_type": "stream",
     "text": [
      "Wall time: 55.5 s\n"
     ]
    },
    {
     "data": {
      "text/plain": [
       "0.9679646110774588"
      ]
     },
     "execution_count": 216,
     "metadata": {},
     "output_type": "execute_result"
    }
   ],
   "source": [
    "%%time\n",
    "cross_val_score(pip_3, X, y, scoring='roc_auc',cv=5).mean()"
   ]
  },
  {
   "cell_type": "markdown",
   "metadata": {},
   "source": [
    "**Подбор параметров по сетке**"
   ]
  },
  {
   "cell_type": "code",
   "execution_count": 168,
   "metadata": {
    "collapsed": true
   },
   "outputs": [],
   "source": [
    "'''оптимизационные параметры в сетке'''\n",
    "param_grid = {'model__C': [0.001, 0.01, 0.1, 1, 10, 100],  'model__gamma': [0.001, 0.01, 0.1, 1, 10, 100]}\n",
    "grid_3 = GridSearchCV(pip_3, param_grid, scoring='roc_auc', cv=5) # сетка"
   ]
  },
  {
   "cell_type": "code",
   "execution_count": 170,
   "metadata": {},
   "outputs": [
    {
     "name": "stdout",
     "output_type": "stream",
     "text": [
      "Wall time: 1h 54min 38s\n"
     ]
    },
    {
     "data": {
      "text/plain": [
       "GridSearchCV(cv=5, error_score='raise',\n",
       "       estimator=Pipeline(memory=None,\n",
       "     steps=[('scaler', MinMaxScaler(copy=True, feature_range=(0, 1))), ('model', SVC(C=1.0, cache_size=200, class_weight='balanced', coef0=0.0,\n",
       "  decision_function_shape='ovr', degree=3, gamma='auto', kernel='rbf',\n",
       "  max_iter=-1, probability=False, random_state=0, shrinking=True,\n",
       "  tol=0.001, verbose=False))]),\n",
       "       fit_params=None, iid=True, n_jobs=1,\n",
       "       param_grid={'model__C': [0.001, 0.01, 0.1, 1, 10, 100], 'model__gamma': [0.001, 0.01, 0.1, 1, 10, 100]},\n",
       "       pre_dispatch='2*n_jobs', refit=True, return_train_score='warn',\n",
       "       scoring=None, verbose=0)"
      ]
     },
     "execution_count": 170,
     "metadata": {},
     "output_type": "execute_result"
    }
   ],
   "source": [
    "%%time\n",
    "grid.fit(X,y)"
   ]
  },
  {
   "cell_type": "markdown",
   "metadata": {},
   "source": [
    "Построим график подбора параметров по сетке:"
   ]
  },
  {
   "cell_type": "code",
   "execution_count": 320,
   "metadata": {},
   "outputs": [
    {
     "data": {
      "image/png": "[encoded data removed]",
      "text/plain": [
       "<matplotlib.figure.Figure at 0x1083b470>"
      ]
     },
     "metadata": {},
     "output_type": "display_data"
    }
   ],
   "source": [
    "'''визуализация параметров модели по сетке'''\n",
    "PrintGridParams(grid, param_1='model__C', param_2='model__gamma', color='w')"
   ]
  },
  {
   "cell_type": "code",
   "execution_count": 112,
   "metadata": {},
   "outputs": [
    {
     "name": "stdout",
     "output_type": "stream",
     "text": [
      "Wall time: 6.84 s\n"
     ]
    }
   ],
   "source": [
    "%%time\n",
    "model_3 = SVC(random_state = 0, class_weight='balanced', C=10, gamma=1)\n",
    "pip_3 = pipeline.Pipeline([('scaler',MinMaxScaler()),('model',model_3)])\n",
    "pip_3.fit(X,y)"
   ]
  },
  {
   "cell_type": "markdown",
   "metadata": {},
   "source": [
    "Качество SVM с нелинейным ядром уступает линейным моделям. Попробуем модели ансамбли"
   ]
  },
  {
   "cell_type": "markdown",
   "metadata": {},
   "source": [
    "### 4. Построение модели Случайный лес <a class='anchor' id='4'></a>\n",
    "[в начало](#0)"
   ]
  },
  {
   "cell_type": "code",
   "execution_count": 217,
   "metadata": {
    "collapsed": true
   },
   "outputs": [],
   "source": [
    "from sklearn.ensemble import RandomForestClassifier"
   ]
  },
  {
   "cell_type": "code",
   "execution_count": 218,
   "metadata": {
    "collapsed": true
   },
   "outputs": [],
   "source": [
    "model_4 = RandomForestClassifier(random_state=0, class_weight='balanced', n_estimators=100)"
   ]
  },
  {
   "cell_type": "markdown",
   "metadata": {},
   "source": [
    "Отмечу, что **ансамбли нейтрально отностяся к машстабированию**, в отличии от линейных моделей и методов опорных векторов"
   ]
  },
  {
   "cell_type": "code",
   "execution_count": 219,
   "metadata": {},
   "outputs": [
    {
     "name": "stdout",
     "output_type": "stream",
     "text": [
      "Wall time: 54.2 s\n"
     ]
    },
    {
     "data": {
      "text/plain": [
       "0.9778837070140307"
      ]
     },
     "execution_count": 219,
     "metadata": {},
     "output_type": "execute_result"
    }
   ],
   "source": [
    "%%time\n",
    "cross_val_score(model_4, X, y, scoring='roc_auc', cv=5).mean() # модель без масштабирования"
   ]
  },
  {
   "cell_type": "code",
   "execution_count": 220,
   "metadata": {},
   "outputs": [
    {
     "name": "stdout",
     "output_type": "stream",
     "text": [
      "Wall time: 14.8 s\n"
     ]
    },
    {
     "data": {
      "text/plain": [
       "RandomForestClassifier(bootstrap=True, class_weight='balanced',\n",
       "            criterion='gini', max_depth=None, max_features='auto',\n",
       "            max_leaf_nodes=None, min_impurity_decrease=0.0,\n",
       "            min_impurity_split=None, min_samples_leaf=1,\n",
       "            min_samples_split=2, min_weight_fraction_leaf=0.0,\n",
       "            n_estimators=100, n_jobs=1, oob_score=False, random_state=0,\n",
       "            verbose=0, warm_start=False)"
      ]
     },
     "execution_count": 220,
     "metadata": {},
     "output_type": "execute_result"
    }
   ],
   "source": [
    "%%time\n",
    "model_4.fit(X,y)"
   ]
  },
  {
   "cell_type": "markdown",
   "metadata": {},
   "source": [
    "### 5. Построение модели Градиентный бустинг <a class='anchor' id='5'></a>\n",
    "[в начало](#0)"
   ]
  },
  {
   "cell_type": "code",
   "execution_count": 282,
   "metadata": {
    "collapsed": true
   },
   "outputs": [],
   "source": [
    "from sklearn.ensemble import GradientBoostingClassifier"
   ]
  },
  {
   "cell_type": "code",
   "execution_count": 283,
   "metadata": {
    "collapsed": true
   },
   "outputs": [],
   "source": [
    "model_5 = GradientBoostingClassifier(random_state=0, n_estimators=300)"
   ]
  },
  {
   "cell_type": "code",
   "execution_count": 223,
   "metadata": {},
   "outputs": [
    {
     "name": "stdout",
     "output_type": "stream",
     "text": [
      "Wall time: 2min 57s\n"
     ]
    },
    {
     "data": {
      "text/plain": [
       "0.9799548243348202"
      ]
     },
     "execution_count": 223,
     "metadata": {},
     "output_type": "execute_result"
    }
   ],
   "source": [
    "%%time\n",
    "cross_val_score(model_5, X, y, scoring='roc_auc', cv=5).mean()"
   ]
  },
  {
   "cell_type": "markdown",
   "metadata": {},
   "source": [
    "**Оптимальное количество деревьев и глубина**"
   ]
  },
  {
   "cell_type": "code",
   "execution_count": 358,
   "metadata": {
    "collapsed": true
   },
   "outputs": [],
   "source": [
    "'''подбор количества деревьев'''\n",
    "estimators = [1] + list(range(5,55,5)) + list(range(100, 500, 100))\n",
    "scoring_estimators = []\n",
    "\n",
    "for i in estimators:\n",
    "    clf = GradientBoostingClassifier(n_estimators=i, random_state=0)\n",
    "    score = cross_val_score(clf, X, y, scoring='roc_auc', cv=5).mean()\n",
    "    scoring_estimators.append(score)"
   ]
  },
  {
   "cell_type": "code",
   "execution_count": 383,
   "metadata": {
    "collapsed": true
   },
   "outputs": [],
   "source": [
    "'''подбор глубины деревьев'''\n",
    "depth = [1] + list(range(2,22,2)) + [30]\n",
    "scoring_depth = []\n",
    "\n",
    "for i in depth:\n",
    "    clf = GradientBoostingClassifier(max_depth=i, n_estimators=100, random_state=0)\n",
    "    score = cross_val_score(clf, X, y, scoring='roc_auc', cv=5).mean()\n",
    "    scoring_depth.append(score)"
   ]
  },
  {
   "cell_type": "code",
   "execution_count": 384,
   "metadata": {},
   "outputs": [
    {
     "data": {
      "image/png": "[encoded data removed]",
      "text/plain": [
       "<matplotlib.figure.Figure at 0x102b6748>"
      ]
     },
     "metadata": {},
     "output_type": "display_data"
    }
   ],
   "source": [
    "plt.figure(figsize=(16,6))\n",
    "\n",
    "plt.subplot(1,2,1)\n",
    "plt.plot(estimators, scoring_estimators, marker='.', color='green', label='Число деревьев')\n",
    "plt.grid(True)\n",
    "plt.xlabel('число деревьев')\n",
    "plt.ylabel('качество')\n",
    "\n",
    "plt.subplot(1,2,2)\n",
    "plt.plot(depth, scoring_depth, marker='.', color='orange', label='Глубина деревьев')\n",
    "plt.grid(True)\n",
    "plt.xlabel('глубина деревьев')\n",
    "plt.ylabel('качество')\n",
    "\n",
    "plt.show()"
   ]
  },
  {
   "cell_type": "markdown",
   "metadata": {},
   "source": [
    "**Подбор параметров по сетке**"
   ]
  },
  {
   "cell_type": "markdown",
   "metadata": {},
   "source": [
    "В градиентном бустинге основными параметрами являются: **learning_rate** - степень вклада нового базового алгоритма в ансамбль и **n_estimators** - число деревьев. Имеет смысл подобрать **n_estimators** максимально большим, на сколько это возможно, а затем подбирать под него **learning_rate**"
   ]
  },
  {
   "cell_type": "code",
   "execution_count": 301,
   "metadata": {
    "collapsed": true
   },
   "outputs": [],
   "source": [
    "param_grid = {'learning_rate': [0.0025, 0.005, 0.0075, 0.01, 0.025, 0.05, 0.075, 0.1, 0.25, 0.5, 0.75, 1]}\n",
    "model_5 = GradientBoostingClassifier(random_state=0, n_estimators=500)\n",
    "grid_5 = GridSearchCV(model_5, param_grid, scoring='roc_auc', cv=5)"
   ]
  },
  {
   "cell_type": "code",
   "execution_count": 302,
   "metadata": {},
   "outputs": [
    {
     "name": "stdout",
     "output_type": "stream",
     "text": [
      "Wall time: 44min 37s\n"
     ]
    },
    {
     "data": {
      "text/plain": [
       "GridSearchCV(cv=5, error_score='raise',\n",
       "       estimator=GradientBoostingClassifier(criterion='friedman_mse', init=None,\n",
       "              learning_rate=0.1, loss='deviance', max_depth=3,\n",
       "              max_features=None, max_leaf_nodes=None,\n",
       "              min_impurity_decrease=0.0, min_impurity_split=None,\n",
       "              min_samples_leaf=1, min_samples_split=2,\n",
       "              min_weight_fraction_leaf=0.0, n_estimators=500,\n",
       "              presort='auto', random_state=0, subsample=1.0, verbose=0,\n",
       "              warm_start=False),\n",
       "       fit_params=None, iid=True, n_jobs=1,\n",
       "       param_grid={'learning_rate': [0.0025, 0.005, 0.0075, 0.01, 0.025, 0.05, 0.075, 0.1, 0.25, 0.5, 0.75, 1]},\n",
       "       pre_dispatch='2*n_jobs', refit=True, return_train_score='warn',\n",
       "       scoring='roc_auc', verbose=0)"
      ]
     },
     "execution_count": 302,
     "metadata": {},
     "output_type": "execute_result"
    }
   ],
   "source": [
    "%%time\n",
    "grid_5.fit(X,y)"
   ]
  },
  {
   "cell_type": "code",
   "execution_count": 303,
   "metadata": {},
   "outputs": [
    {
     "name": "stderr",
     "output_type": "stream",
     "text": [
      "C:\\Users\\Dima\\Anaconda3\\lib\\site-packages\\sklearn\\model_selection\\_search.py:761: DeprecationWarning: The grid_scores_ attribute was deprecated in version 0.18 in favor of the more elaborate cv_results_ attribute. The grid_scores_ attribute will not be available from 0.20\n",
      "  DeprecationWarning)\n"
     ]
    },
    {
     "data": {
      "text/plain": [
       "[mean: 0.96285, std: 0.00668, params: {'learning_rate': 0.0025},\n",
       " mean: 0.96974, std: 0.00602, params: {'learning_rate': 0.005},\n",
       " mean: 0.97704, std: 0.00395, params: {'learning_rate': 0.0075},\n",
       " mean: 0.97864, std: 0.00362, params: {'learning_rate': 0.01},\n",
       " mean: 0.98129, std: 0.00413, params: {'learning_rate': 0.025},\n",
       " mean: 0.98112, std: 0.00456, params: {'learning_rate': 0.05},\n",
       " mean: 0.97940, std: 0.00627, params: {'learning_rate': 0.075},\n",
       " mean: 0.97980, std: 0.00591, params: {'learning_rate': 0.1},\n",
       " mean: 0.97583, std: 0.00676, params: {'learning_rate': 0.25},\n",
       " mean: 0.95275, std: 0.01369, params: {'learning_rate': 0.5},\n",
       " mean: 0.94335, std: 0.01527, params: {'learning_rate': 0.75},\n",
       " mean: 0.82794, std: 0.08287, params: {'learning_rate': 1}]"
      ]
     },
     "execution_count": 303,
     "metadata": {},
     "output_type": "execute_result"
    }
   ],
   "source": [
    "grid_5.grid_scores_"
   ]
  },
  {
   "cell_type": "markdown",
   "metadata": {},
   "source": [
    "Выберем в качестве модели Градиентный бустинг с параметрами: learning_rate=0.1 и n_estimators=200"
   ]
  },
  {
   "cell_type": "code",
   "execution_count": 304,
   "metadata": {},
   "outputs": [
    {
     "name": "stdout",
     "output_type": "stream",
     "text": [
      "Wall time: 1min\n"
     ]
    }
   ],
   "source": [
    "%%time\n",
    "model_5 = GradientBoostingClassifier(random_state=0, learning_rate=0.025, n_estimators=500)\n",
    "model_5.fit(X,y)"
   ]
  },
  {
   "cell_type": "markdown",
   "metadata": {},
   "source": [
    "### 6.  Сравнение ROC кривых<a class='anchor' id='6'></a>\n",
    "[в начало](#0)"
   ]
  },
  {
   "cell_type": "code",
   "execution_count": 121,
   "metadata": {
    "collapsed": true
   },
   "outputs": [],
   "source": [
    "from sklearn.cross_validation import train_test_split\n",
    "from sklearn.metrics import roc_curve"
   ]
  },
  {
   "cell_type": "code",
   "execution_count": 120,
   "metadata": {
    "collapsed": true
   },
   "outputs": [],
   "source": [
    "'''Разобьем выборку на обучение и тест в отношении 70к30'''\n",
    "X_train, X_test, y_train, y_test = train_test_split(X, y, test_size=0.3, random_state=0)"
   ]
  },
  {
   "cell_type": "code",
   "execution_count": 131,
   "metadata": {},
   "outputs": [
    {
     "data": {
      "text/plain": [
       "<matplotlib.legend.Legend at 0x14d59dd8>"
      ]
     },
     "execution_count": 131,
     "metadata": {},
     "output_type": "execute_result"
    },
    {
     "data": {
      "image/png": "[encoded data removed]",
      "text/plain": [
       "<matplotlib.figure.Figure at 0x14d59b00>"
      ]
     },
     "metadata": {},
     "output_type": "display_data"
    }
   ],
   "source": [
    "models = [pip_11, pip_12, pip_21, pip_22, pip_3, model_4, model_5]\n",
    "str_models = ['ЛогРег.масшт', 'ЛогРег.станд', 'ЛинSVC.масшт', 'ЛинSVC.станд', 'SVC', 'Случайный лес', 'ГрадБустинг']\n",
    "\n",
    "plt.figure(figsize=(16, 8)) \n",
    "for model, str_model in zip(models,str_models):\n",
    "    model.fit(X_train, y_train)\n",
    "    if (str_model in ['ЛинSVC.масшт', 'ЛинSVC.станд', 'SVC']):\n",
    "        pred_scr = model.decision_function(X_test)\n",
    "    else:\n",
    "        pred_scr = model.predict_proba(X_test)[:, 1]\n",
    "    fpr, tpr, thresholds = roc_curve(y_test, pred_scr)\n",
    "    plt.plot(fpr, tpr, label=str_model)\n",
    "\n",
    "plt.xlabel('False Positive Rate')\n",
    "plt.ylabel('True Positive Rate')\n",
    "plt.title('Receiver operating characteristic example')\n",
    "plt.legend(loc=\"lower right\")"
   ]
  },
  {
   "cell_type": "markdown",
   "metadata": {},
   "source": [
    "Выберем в качестве итоговой модели Градиентный бустинг с параметрами: learning_rate=0.1 и n_estimators=200"
   ]
  },
  {
   "cell_type": "markdown",
   "metadata": {},
   "source": [
    "### 7. Получение прогнозов на тесте <a class='anchor' id='7'></a>\n",
    "[в начало](#0)"
   ]
  },
  {
   "cell_type": "code",
   "execution_count": 305,
   "metadata": {
    "collapsed": true
   },
   "outputs": [],
   "source": [
    "data_test = pd.read_csv('daticctest1.csv', sep=';', low_memory = False)"
   ]
  },
  {
   "cell_type": "code",
   "execution_count": 306,
   "metadata": {
    "collapsed": true
   },
   "outputs": [],
   "source": [
    "# data_test.head()"
   ]
  },
  {
   "cell_type": "code",
   "execution_count": 307,
   "metadata": {
    "collapsed": true
   },
   "outputs": [],
   "source": [
    "data_test.drop(['ID'], axis=1, inplace=True)"
   ]
  },
  {
   "cell_type": "code",
   "execution_count": 308,
   "metadata": {
    "collapsed": true
   },
   "outputs": [],
   "source": [
    "'''преобразование строковых признаков в числовые (для test)'''\n",
    "ReplaceNumericData(data_test, columns_object_string)"
   ]
  },
  {
   "cell_type": "code",
   "execution_count": 309,
   "metadata": {
    "collapsed": true
   },
   "outputs": [],
   "source": [
    "'''преобразование категориального признака'''\n",
    "encoder = LabelEncoder()\n",
    "data_test['Regione'] = encoder.fit_transform(data_test['Regione'])"
   ]
  },
  {
   "cell_type": "code",
   "execution_count": 310,
   "metadata": {
    "collapsed": true
   },
   "outputs": [],
   "source": [
    "'''Логорифмирование некоторых признаков'''\n",
    "for i in range(len(data_test.columns)):\n",
    "    if i in Columns:\n",
    "        data_test[data_test.columns[i]] = data_test[data_test.columns[i]].apply(lambda x: np.log(x+1))"
   ]
  },
  {
   "cell_type": "code",
   "execution_count": 311,
   "metadata": {
    "collapsed": true
   },
   "outputs": [],
   "source": [
    "# data_test.head()"
   ]
  },
  {
   "cell_type": "code",
   "execution_count": 312,
   "metadata": {},
   "outputs": [
    {
     "data": {
      "text/plain": [
       "GradientBoostingClassifier(criterion='friedman_mse', init=None,\n",
       "              learning_rate=0.025, loss='deviance', max_depth=3,\n",
       "              max_features=None, max_leaf_nodes=None,\n",
       "              min_impurity_decrease=0.0, min_impurity_split=None,\n",
       "              min_samples_leaf=1, min_samples_split=2,\n",
       "              min_weight_fraction_leaf=0.0, n_estimators=500,\n",
       "              presort='auto', random_state=0, subsample=1.0, verbose=0,\n",
       "              warm_start=False)"
      ]
     },
     "execution_count": 312,
     "metadata": {},
     "output_type": "execute_result"
    }
   ],
   "source": [
    "Model = GradientBoostingClassifier(random_state=0, learning_rate=0.025, n_estimators=500)\n",
    "Model.fit(X,y)"
   ]
  },
  {
   "cell_type": "code",
   "execution_count": 313,
   "metadata": {
    "collapsed": true
   },
   "outputs": [],
   "source": [
    "test_predict = Model.predict(data_test)"
   ]
  },
  {
   "cell_type": "code",
   "execution_count": 314,
   "metadata": {},
   "outputs": [
    {
     "data": {
      "text/plain": [
       "Counter({0: 3714, 1: 252})"
      ]
     },
     "execution_count": 314,
     "metadata": {},
     "output_type": "execute_result"
    }
   ],
   "source": [
    "from collections import Counter\n",
    "Counter(test_predict)"
   ]
  },
  {
   "cell_type": "markdown",
   "metadata": {},
   "source": [
    "**Подгрузка рещультатов**"
   ]
  },
  {
   "cell_type": "code",
   "execution_count": 315,
   "metadata": {
    "collapsed": true
   },
   "outputs": [],
   "source": [
    "Test = pd.DataFrame(list(range(1,len(test_predict)+1)) , columns=['id'])\n",
    "Test['Target'] = test_predict"
   ]
  },
  {
   "cell_type": "code",
   "execution_count": 316,
   "metadata": {},
   "outputs": [
    {
     "data": {
      "text/html": [
       "<div>\n",
       "<style>\n",
       "    .dataframe thead tr:only-child th {\n",
       "        text-align: right;\n",
       "    }\n",
       "\n",
       "    .dataframe thead th {\n",
       "        text-align: left;\n",
       "    }\n",
       "\n",
       "    .dataframe tbody tr th {\n",
       "        vertical-align: top;\n",
       "    }\n",
       "</style>\n",
       "<table border=\"1\" class=\"dataframe\">\n",
       "  <thead>\n",
       "    <tr style=\"text-align: right;\">\n",
       "      <th></th>\n",
       "      <th>id</th>\n",
       "      <th>Target</th>\n",
       "    </tr>\n",
       "  </thead>\n",
       "  <tbody>\n",
       "    <tr>\n",
       "      <th>0</th>\n",
       "      <td>1</td>\n",
       "      <td>0</td>\n",
       "    </tr>\n",
       "    <tr>\n",
       "      <th>1</th>\n",
       "      <td>2</td>\n",
       "      <td>0</td>\n",
       "    </tr>\n",
       "    <tr>\n",
       "      <th>2</th>\n",
       "      <td>3</td>\n",
       "      <td>0</td>\n",
       "    </tr>\n",
       "    <tr>\n",
       "      <th>3</th>\n",
       "      <td>4</td>\n",
       "      <td>0</td>\n",
       "    </tr>\n",
       "    <tr>\n",
       "      <th>4</th>\n",
       "      <td>5</td>\n",
       "      <td>0</td>\n",
       "    </tr>\n",
       "  </tbody>\n",
       "</table>\n",
       "</div>"
      ],
      "text/plain": [
       "   id  Target\n",
       "0   1       0\n",
       "1   2       0\n",
       "2   3       0\n",
       "3   4       0\n",
       "4   5       0"
      ]
     },
     "execution_count": 316,
     "metadata": {},
     "output_type": "execute_result"
    }
   ],
   "source": [
    "Test.head()"
   ]
  },
  {
   "cell_type": "code",
   "execution_count": 317,
   "metadata": {},
   "outputs": [
    {
     "name": "stdout",
     "output_type": "stream",
     "text": [
      "(3966, 2)\n"
     ]
    }
   ],
   "source": [
    "Test.to_csv('TestADN_GB.csv', sep=',', index=False)\n",
    "print(Test.shape)"
   ]
  },
  {
   "cell_type": "markdown",
   "metadata": {},
   "source": [
    "#### Посредством градиентного бустинга, оценка auc-roc на тесте kaggle составила: 0.93356"
   ]
  },
  {
   "cell_type": "markdown",
   "metadata": {
    "collapsed": true
   },
   "source": [
    "### 8. Пользовательские функции <a class='anchor' id='8'></a>                                                \n",
    "[в начало](#0)"
   ]
  },
  {
   "cell_type": "code",
   "execution_count": 19,
   "metadata": {
    "collapsed": true
   },
   "outputs": [],
   "source": [
    "'''Функция преобразование строковочисловых признаков в численные'''\n",
    "def ReplaceNumericData(x, columns):\n",
    "    for c in columns:\n",
    "        x[c] = x[c].apply(lambda x: x.replace(' ', '')) # удаление пробелов\n",
    "        x[c] = x[c].apply(pd.to_numeric) # преобразование в число"
   ]
  },
  {
   "cell_type": "code",
   "execution_count": 20,
   "metadata": {
    "collapsed": true
   },
   "outputs": [],
   "source": [
    "'''функция построения графика коэффициентов модели'''\n",
    "def PltCoefModel(pipeline,x=30,y=30):\n",
    "    plt.figure(figsize=(x,y))\n",
    "    plt.barh(range(len(X.columns)), abs(pipeline.named_steps['model'].coef_[0]), align='center')\n",
    "    plt.yticks(range(len(X.columns)), X.columns, size=20)\n",
    "    plt.xlabel('Модуль значимости признака', size=20)\n",
    "    plt.show()"
   ]
  },
  {
   "cell_type": "code",
   "execution_count": 21,
   "metadata": {
    "collapsed": true
   },
   "outputs": [],
   "source": [
    "'''функция визуализации параметров модели по сетке'''\n",
    "def PrintGridParams(grid, param_1='model__C', param_2='model__gamma', color='b'):\n",
    "\n",
    "    values = grid.grid_scores_\n",
    "    values = [round(values[k][1],4) for k in range(len(values))]\n",
    "    size = len(values)**0.5 # квадратный корень размера есть сторона квадрата  \n",
    "    values = np.reshape(values,(size,size)) # преобразование списка в матрицу\n",
    "\n",
    "    xx = param_grid[param_1]\n",
    "    yy = param_grid[param_2]\n",
    "\n",
    "    fig, ax = plt.subplots(figsize=(5,5))\n",
    "    im = ax.imshow(values)\n",
    "\n",
    "    ax.set_xticks(range(len(xx)))\n",
    "    ax.set_yticks(range(len(yy)))\n",
    "    ax.set_xticklabels(xx)\n",
    "    ax.set_yticklabels(yy)\n",
    "    ax.set_xlabel(param_2)\n",
    "    ax.set_ylabel(param_1)\n",
    "\n",
    "    for i in range(len(xx)):\n",
    "        for j in range(len(yy)):\n",
    "            text = ax.text(j, i, values[i,j], ha='center', va='center', color=color)\n",
    "\n",
    "    ax.set_title('Подбор параметров модели')\n",
    "    fig.tight_layout()\n",
    "    plt.show()"
   ]
  },
  {
   "cell_type": "code",
   "execution_count": 224,
   "metadata": {
    "collapsed": true
   },
   "outputs": [],
   "source": [
    "'''Функция построения Q-Q графика и переход к логорифму признака'''\n",
    "def Norm_log_QQ_Plot(df):\n",
    "    plt.figure(figsize=(12,10))\n",
    "    plt.subplot(2,2,1)\n",
    "    stats.probplot(df, dist=\"norm\", plot=plt) # Q-Q график для income \n",
    "    # plt.title('income')\n",
    "    plt.subplot(2,2,2)\n",
    "    stats.probplot(np.log(df+1), dist=\"norm\", plot=plt) # Q-Q график для age\n",
    "    # plt.title('log_income')\n",
    "    plt.subplot(2,2,3)\n",
    "    plt.hist(df, color='red')\n",
    "    # plt.title('доход')\n",
    "    plt.xlabel('частота')\n",
    "    plt.ylabel('значение')\n",
    "    plt.subplot(2,2,4)\n",
    "    plt.hist(np.log(df+1), color='green')\n",
    "    # plt.title('логорифм дохода')\n",
    "    plt.xlabel('частота')\n",
    "    plt.ylabel('значение')\n",
    "    plt.show()"
   ]
  },
  {
   "cell_type": "markdown",
   "metadata": {},
   "source": [
    "### [в начало](#0)"
   ]
  }
 ],
 "metadata": {
  "kernelspec": {
   "display_name": "Python 3",
   "language": "python",
   "name": "python3"
  },
  "language_info": {
   "codemirror_mode": {
    "name": "ipython",
    "version": 3
   },
   "file_extension": ".py",
   "mimetype": "text/x-python",
   "name": "python",
   "nbconvert_exporter": "python",
   "pygments_lexer": "ipython3",
   "version": "3.6.3"
  }
 },
 "nbformat": 4,
 "nbformat_minor": 2
}
